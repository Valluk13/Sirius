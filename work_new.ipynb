{
 "cells": [
  {
   "cell_type": "code",
   "execution_count": null,
   "metadata": {},
   "outputs": [],
   "source": [
    "import pandas as pd\n",
    "import json \n",
    "import numpy as np \n"
   ]
  },
  {
   "cell_type": "code",
   "execution_count": null,
   "metadata": {},
   "outputs": [],
   "source": [
    "import nltk\n",
    "from nltk.corpus import stopwords\n",
    "from nltk.tokenize import word_tokenize\n",
    "from nltk.stem import WordNetLemmatizer\n",
    "from sklearn.feature_extraction.text import TfidfVectorizer\n"
   ]
  },
  {
   "cell_type": "code",
   "execution_count": null,
   "metadata": {},
   "outputs": [],
   "source": [
    "# Функция для преобработки строк\n",
    "def preprocess_sentence(sentence):\n",
    "   # Tokenize\n",
    "   tokens = word_tokenize(sentence.lower())\n",
    "   \n",
    "   # Убираем слова-паразиты (stopwords)\n",
    "   stop_words = set(stopwords.words('english'))\n",
    "\n",
    "   tokens = [token for token in tokens if token not in stop_words]\n",
    "   \n",
    "   # Лематизация\n",
    "   lemmatizer = WordNetLemmatizer()\n",
    "   tokens = [lemmatizer.lemmatize(token) for token in tokens]\n",
    "   \n",
    "   return ' '.join(tokens)\n",
    "\n",
    "\n",
    "def get_most_similar_sentence(user_input, df):\n",
    "   preprocessed_sentences = df['phrase'].tolist()\n",
    "   # Create TF-IDF vectorizer\n",
    "   vectorizer = TfidfVectorizer(max_df=0.3,      # drop words that occur in more than X percent of documents\n",
    "                           stop_words='english', # remove stop words\n",
    "                           lowercase=True,       # Convert everything to lower case \n",
    "                           use_idf=True,         # Use idf\n",
    "                           norm=u'l2',           # Normalization\n",
    "                           smooth_idf=True       # Prevents divide-by-zero errors\n",
    "                           )\n",
    "   \n",
    "   # Generate TF-IDF matrix\n",
    "   tfidf_matrix = vectorizer.fit_transform(preprocessed_sentences)\n",
    "   return tfidf_matrix, vectorizer"
   ]
  },
  {
   "cell_type": "code",
   "execution_count": null,
   "metadata": {},
   "outputs": [],
   "source": [
    "def search(tfidf_matrix, model, request):\n",
    "    request_transform = model.transform([request])\n",
    "    similarity = np.dot(request_transform,np.transpose(tfidf_matrix))\n",
    "    x = np.array(similarity.toarray()[0])\n",
    "    indices=np.argsort(x)[-5:][::-1]\n",
    "    sim = np.sort(x)[-5:][::-1]\n",
    "    return indices, sim\n",
    "\n",
    "\n",
    "def print_result(request_content,indices,X, sim):\n",
    "    print('\\nSearch: ' + request_content)\n",
    "    print('\\nBest Results')\n",
    "    for j, i in enumerate(indices):\n",
    "        print('id = {0:5d} - phrase = {1} - similarity = {2}'.format(i, X['url_picture'].loc[i], sim[j]))\n",
    "        \n",
    "            "
   ]
  },
  {
   "cell_type": "code",
   "execution_count": null,
   "metadata": {},
   "outputs": [],
   "source": [
    "def input_json(file_name):\n",
    "    path = 'C:\\\\Visual Studio programs' + '\\\\' + file_name\n",
    "    try:\n",
    "        with open(path) as f:\n",
    "            data_j =  json.load(f)\n",
    "            messages = ''\n",
    "            for i in data_j['dialogue']:\n",
    "                if i['share_photo'] != False:\n",
    "                    break \n",
    "                messages = messages + i['message'] + ' '\n",
    "        return messages\n",
    "    except:\n",
    "        print('Файла не существует! Либо вы его не подгрузили')\n",
    "        return talking()"
   ]
  },
  {
   "cell_type": "code",
   "execution_count": null,
   "metadata": {},
   "outputs": [],
   "source": [
    "def talking():\n",
    "    print('''\n",
    "        Если у вас файл json то введите его название \n",
    "        Например: file_with_dia.json\n",
    "        Если вы хотите ввести запрос (описание картинки) то введите его\n",
    "        Например: i want to see a burger\n",
    "        Если вы хотите ввести запрос, диалог как то ещё, сообщите разработчику\n",
    "        ''')\n",
    "    \n",
    "    arg = input()\n",
    "    if '.json' in arg:\n",
    "        return input_json(arg)\n",
    "    else:\n",
    "        return arg"
   ]
  },
  {
   "cell_type": "code",
   "execution_count": null,
   "metadata": {},
   "outputs": [],
   "source": [
    "df = pd.read_csv('C:\\\\Visual Studio programs\\\\rdata1.csv', sep=';')"
   ]
  },
  {
   "cell_type": "code",
   "execution_count": null,
   "metadata": {},
   "outputs": [],
   "source": [
    "df['phrase_after_preprocess'] = df['phrase'].apply(preprocess_sentence)"
   ]
  },
  {
   "cell_type": "code",
   "execution_count": null,
   "metadata": {},
   "outputs": [],
   "source": [
    "tfidf_matrix, vectorizer = get_most_similar_sentence('', df)"
   ]
  },
  {
   "cell_type": "code",
   "execution_count": null,
   "metadata": {},
   "outputs": [],
   "source": [
    "user_input = talking()\n",
    "ind, sim = search(tfidf_matrix, vectorizer, user_input)\n",
    "print_result(user_input, ind, df, sim)"
   ]
  }
 ],
 "metadata": {
  "kernelspec": {
   "display_name": "Python 3",
   "language": "python",
   "name": "python3"
  },
  "language_info": {
   "codemirror_mode": {
    "name": "ipython",
    "version": 3
   },
   "file_extension": ".py",
   "mimetype": "text/x-python",
   "name": "python",
   "nbconvert_exporter": "python",
   "pygments_lexer": "ipython3",
   "version": "3.11.4"
  }
 },
 "nbformat": 4,
 "nbformat_minor": 2
}
